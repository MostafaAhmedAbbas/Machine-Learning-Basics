{
 "cells": [
  {
   "cell_type": "code",
   "execution_count": 5,
   "metadata": {},
   "outputs": [],
   "source": [
    "import numpy as np\n",
    "import matplotlib.pyplot as plt\n",
    "import matplotlib.image as mpimg\n",
    "import math\n",
    "from statistics import mode"
   ]
  },
  {
   "cell_type": "code",
   "execution_count": 6,
   "metadata": {},
   "outputs": [],
   "source": [
    "def Train():\n",
    "    ImagesArray = []\n",
    "    myInt = float(255)\n",
    "    jpg =\".jpg\"\n",
    "    path = \"Train/\"\n",
    "    for i in range(1,2401):\n",
    "        name= str(i)\n",
    "        name = name + jpg\n",
    "        name = path + name\n",
    "#         img = Image.open(name)\n",
    "        img = mpimg.imread(name)\n",
    "        np_img = np.array(img,dtype=float).flatten()     #Flattened each Image from 2D Array to 1D array\n",
    "        np_img[:] = [x / myInt for x in np_img]\n",
    "        ImagesArray.append(np_img)\n",
    "        \n",
    "   \n",
    "    ImagesArray=np.array(ImagesArray)\n",
    "    MeanArray=[]\n",
    "    Col=0\n",
    "    MeanMatrix=[]\n",
    "    sum=0\n",
    "    \n",
    "    for z in range(1,785):             #Mean CMatrix Calculation\n",
    "        CurrentCol=ImagesArray[ : , Col]\n",
    "        for i in range(1,2401):\n",
    "            if(i % 240 ==0 and i>0):\n",
    "                mean=sum/240\n",
    "                MeanArray.append(mean)\n",
    "                sum=0\n",
    "            else:\n",
    "                sum=sum+CurrentCol[i]\n",
    "        Col = Col +1\n",
    "        MeanMatrix.append(MeanArray)\n",
    "        MeanArray=[]\n",
    "        \n",
    "        \n",
    "    MeanMatrix=np.array(MeanMatrix)\n",
    "    CMM = MeanMatrix.transpose()  #CMM is corrected Mean Matrix \n",
    "  #  print(CMM[0])\n",
    "  #  print(MeanMatrix[0])\n",
    "  #  print(MeanMatrix.shape)\n",
    "    \n",
    "    StdArray=[]\n",
    "    StdClass=[]\n",
    "    Col=0\n",
    "    StdMatrix=[]\n",
    "    \n",
    "    \n",
    "    for z in range(1,785):             #Mean CMatrix Calculation\n",
    "        CurrentCol=ImagesArray[ : , Col]\n",
    "        for i in range(1,2401):\n",
    "            if(i % 240 ==0):\n",
    "                standard=np.std(StdClass)\n",
    "                StdArray.append(standard)\n",
    "                StdClass=[]\n",
    "            else:\n",
    "                StdClass.append(CurrentCol[i])\n",
    "        Col = Col +1\n",
    "        StdMatrix.append(StdArray)\n",
    "        StdArray=[]\n",
    "        \n",
    "    StdMatrix=np.array(StdMatrix)    \n",
    "  #  print(StdMatrix.shape)\n",
    "    VMatrix=np.zeros((10,784))\n",
    "    \n",
    "    for i in range(0,10):\n",
    "        for j in range(0,784):\n",
    "            VMatrix[i][j]= StdMatrix[j][i]**2\n",
    "            if( VMatrix[i][j] < 0.01):\n",
    "                 VMatrix[i][j]=0.01\n",
    "  #  print(VMatrix.shape)\n",
    "    return CMM, VMatrix\n",
    "            \n",
    "        \n",
    "        \n",
    "    \n",
    "            \n",
    "    \n",
    "    \n",
    "   \n",
    "        \n",
    "        \n",
    "    \n",
    "        "
   ]
  },
  {
   "cell_type": "code",
   "execution_count": 7,
   "metadata": {},
   "outputs": [
    {
     "data": {
      "text/plain": [
       "(array([[1.30718954e-04, 7.02614379e-04, 5.71895425e-04, ...,\n",
       "         0.00000000e+00, 0.00000000e+00, 0.00000000e+00],\n",
       "        [4.90196078e-05, 0.00000000e+00, 1.63398693e-04, ...,\n",
       "         0.00000000e+00, 0.00000000e+00, 0.00000000e+00],\n",
       "        [2.02614379e-03, 2.25490196e-03, 2.10784314e-03, ...,\n",
       "         0.00000000e+00, 0.00000000e+00, 0.00000000e+00],\n",
       "        ...,\n",
       "        [2.22222222e-03, 1.14379085e-03, 1.78104575e-03, ...,\n",
       "         0.00000000e+00, 0.00000000e+00, 0.00000000e+00],\n",
       "        [6.69934641e-04, 7.51633987e-04, 2.45098039e-04, ...,\n",
       "         0.00000000e+00, 0.00000000e+00, 0.00000000e+00],\n",
       "        [1.47058824e-04, 2.12418301e-04, 2.94117647e-04, ...,\n",
       "         4.90196078e-05, 8.16993464e-05, 8.16993464e-05]]),\n",
       " array([[0.01, 0.01, 0.01, ..., 0.01, 0.01, 0.01],\n",
       "        [0.01, 0.01, 0.01, ..., 0.01, 0.01, 0.01],\n",
       "        [0.01, 0.01, 0.01, ..., 0.01, 0.01, 0.01],\n",
       "        ...,\n",
       "        [0.01, 0.01, 0.01, ..., 0.01, 0.01, 0.01],\n",
       "        [0.01, 0.01, 0.01, ..., 0.01, 0.01, 0.01],\n",
       "        [0.01, 0.01, 0.01, ..., 0.01, 0.01, 0.01]]))"
      ]
     },
     "execution_count": 7,
     "metadata": {},
     "output_type": "execute_result"
    }
   ],
   "source": [
    "Train()"
   ]
  },
  {
   "cell_type": "code",
   "execution_count": 229,
   "metadata": {},
   "outputs": [],
   "source": [
    "def Test():\n",
    "    Mean, Variance =Train()\n",
    "    TestImages=[]\n",
    "    res=[]\n",
    "    myInt=255\n",
    "    jpg =\".jpg\"\n",
    "    path = \"Test/\"\n",
    "    pi=math.pi\n",
    "    for i in range(1,201):\n",
    "        name= str(i)\n",
    "        name = name + jpg\n",
    "        name = path + name\n",
    "        img = mpimg.imread(name)\n",
    "        np_img = np.array(img,dtype=float).flatten()     #Flattened each Image from 2D Array to 1D array\n",
    "        np_img[:] = [x / myInt for x in np_img]\n",
    "        TestImages.append(np_img)\n",
    "    #print(TestImages[0])\n",
    "    for i in range(0,200):\n",
    "        CImg=TestImages[i]\n",
    "        ImageGaussian=[]\n",
    "        for j in range(0,784):\n",
    "            CPixel=CImg[j]\n",
    "            GaussianRes=[]\n",
    "            for z in range(0,10):\n",
    "                a=((CPixel-Mean[z][j])**2)/(2*(Variance[z][j]))\n",
    "                e=math.exp(-a)\n",
    "                GaussianRes.append((1/math.sqrt(2*pi*Variance[z][j])) * e)\n",
    "     #       Klass = GaussianRes.index(max(GaussianRes))\n",
    "            ImageGaussian.append(GaussianRes)\n",
    "        res.append(ImageGaussian)\n",
    "        \n",
    "    ClassRes=[]\n",
    "    GaussMult=np.ones((10,200))\n",
    "    for i in range(0,200):\n",
    "        CImg=res[i]\n",
    "        for j in range(0,784):\n",
    "            CPixel=CImg[j]\n",
    "            for z in range(0,10):\n",
    "                GaussMult[z][i]=GaussMult[z][i] * CPixel[z]\n",
    "                \n",
    "    CGM= GaussMult.transpose()\n",
    "   \n",
    "    for i in range(0,200):\n",
    "        Klass = np.argmax(CGM[i])\n",
    "        ClassRes.append(Klass)\n",
    "        \n",
    "    return ClassRes\n",
    "        \n",
    "    \n",
    "                \n",
    "                \n",
    "    "
   ]
  },
  {
   "cell_type": "code",
   "execution_count": 228,
   "metadata": {},
   "outputs": [
    {
     "name": "stderr",
     "output_type": "stream",
     "text": [
      "C:\\Users\\Mostafa\\Anaconda3\\lib\\site-packages\\ipykernel_launcher.py:39: RuntimeWarning: overflow encountered in double_scalars\n"
     ]
    },
    {
     "name": "stdout",
     "output_type": "stream",
     "text": [
      "[0, 0, 0, 0, 0, 0, 0, 0, 0, 0, 0, 0, 0, 8, 0, 0, 0, 0, 6, 0, 1, 1, 1, 1, 1, 1, 1, 1, 1, 1, 1, 1, 1, 1, 1, 1, 1, 1, 1, 1, 2, 8, 2, 2, 2, 2, 2, 2, 5, 2, 2, 2, 9, 6, 2, 2, 2, 2, 2, 2, 8, 8, 3, 3, 3, 3, 3, 3, 3, 3, 3, 3, 3, 3, 3, 3, 3, 3, 3, 5, 4, 9, 4, 4, 6, 4, 6, 4, 4, 4, 4, 4, 9, 9, 6, 4, 4, 8, 4, 9, 8, 5, 8, 5, 5, 8, 5, 5, 5, 9, 4, 5, 5, 4, 5, 5, 5, 5, 5, 5, 8, 6, 6, 6, 6, 6, 6, 6, 6, 6, 6, 6, 6, 6, 6, 6, 6, 6, 6, 6, 7, 7, 7, 7, 7, 7, 7, 7, 7, 9, 7, 9, 4, 9, 4, 9, 9, 7, 7, 4, 8, 8, 8, 8, 8, 8, 8, 8, 8, 8, 8, 8, 8, 0, 8, 8, 9, 8, 8, 8, 9, 9, 9, 0, 7, 9, 3, 8, 9, 9, 9, 9, 9, 9, 9, 4, 4, 4, 9, 9]\n"
     ]
    }
   ],
   "source": [
    "Test()"
   ]
  },
  {
   "cell_type": "code",
   "execution_count": 230,
   "metadata": {},
   "outputs": [],
   "source": [
    "def Confused():\n",
    "    result = Test()\n",
    "    matrix =np.zeros((10,10))\n",
    "    factor =0\n",
    "    \n",
    "    for i in range (0,10):\n",
    "        for j in range (0 +factor,20 +factor):\n",
    "            matrix[i][result[j]] =   matrix[i][result[j]] + 1\n",
    "            \n",
    "        factor +=20\n",
    "        \n",
    "        \n",
    "    print(matrix)\n",
    "    imgplot = plt.imshow(matrix)\n",
    "    plt.savefig('Confusion.jpg')"
   ]
  },
  {
   "cell_type": "code",
   "execution_count": 231,
   "metadata": {},
   "outputs": [
    {
     "name": "stderr",
     "output_type": "stream",
     "text": [
      "C:\\Users\\Mostafa\\Anaconda3\\lib\\site-packages\\ipykernel_launcher.py:39: RuntimeWarning: overflow encountered in double_scalars\n"
     ]
    },
    {
     "name": "stdout",
     "output_type": "stream",
     "text": [
      "[[18.  0.  0.  0.  0.  0.  1.  0.  1.  0.]\n",
      " [ 0. 20.  0.  0.  0.  0.  0.  0.  0.  0.]\n",
      " [ 0.  0. 16.  0.  0.  1.  1.  0.  1.  1.]\n",
      " [ 0.  0.  0. 17.  0.  1.  0.  0.  2.  0.]\n",
      " [ 0.  0.  0.  0. 12.  0.  3.  0.  1.  4.]\n",
      " [ 0.  0.  0.  0.  2. 14.  0.  0.  3.  1.]\n",
      " [ 0.  0.  0.  0.  0.  0. 19.  0.  1.  0.]\n",
      " [ 0.  0.  0.  0.  3.  0.  0. 12.  0.  5.]\n",
      " [ 1.  0.  0.  0.  0.  0.  0.  0. 18.  1.]\n",
      " [ 1.  0.  0.  1.  3.  0.  0.  1.  1. 13.]]\n"
     ]
    },
    {
     "data": {
      "image/png": "[encoded data removed]",
      "text/plain": [
       "<Figure size 432x288 with 1 Axes>"
      ]
     },
     "metadata": {
      "needs_background": "light"
     },
     "output_type": "display_data"
    }
   ],
   "source": [
    "Confused()"
   ]
  },
  {
   "cell_type": "code",
   "execution_count": null,
   "metadata": {},
   "outputs": [],
   "source": []
  }
 ],
 "metadata": {
  "kernelspec": {
   "display_name": "Python 3",
   "language": "python",
   "name": "python3"
  },
  "language_info": {
   "codemirror_mode": {
    "name": "ipython",
    "version": 3
   },
   "file_extension": ".py",
   "mimetype": "text/x-python",
   "name": "python",
   "nbconvert_exporter": "python",
   "pygments_lexer": "ipython3",
   "version": "3.7.3"
  }
 },
 "nbformat": 4,
 "nbformat_minor": 2
}
